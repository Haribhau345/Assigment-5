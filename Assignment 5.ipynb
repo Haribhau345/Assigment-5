{
 "cells": [
  {
   "cell_type": "code",
   "execution_count": null,
   "id": "2af0fba4",
   "metadata": {},
   "outputs": [],
   "source": [
    "#1. An empty dictionary's code looks like this: {}\n",
    "\n",
    "#2. The value of a dictionary value with the key 'foo' and the value 42 would be: {'foo': 42}\n",
    "\n",
    "#3. The most significant distinction between a dictionary and a list is that a dictionary \n",
    "#is an unordered collection of key-value pairs, while a list is an ordered collection of values.\n",
    "\n",
    "#4. If you try to access spam['foo'] if spam is {'bar': 100}, \n",
    "#will get a KeyError because the key 'foo' does not exist in the dictionary.\n",
    "\n",
    "#5. If a dictionary is stored in spam, 'cat' in spam and 'cat' in spam.keys() are the same thing, \n",
    "#as both expressions check whether the key 'cat' exists in the dictionary.\n",
    "\n",
    "#6. If a dictionary is stored in spam, 'cat' in spam.values() \n",
    "#checks whether the value 'cat' exists in the values of the dictionary.\n",
    "#This expression will return True if 'cat' is a value in any of the key-value pairs in the dictionary.\n",
    "\n",
    "#7. A shortcut for the following code: \n",
    "#if 'color' not in spam: spam['color'] = 'black' is spam.setdefault('color', 'black')\n",
    "\n",
    "#8. \"pretty print\" dictionary values can be using the pprint module and the pprint() function."
   ]
  }
 ],
 "metadata": {
  "kernelspec": {
   "display_name": "Python 3 (ipykernel)",
   "language": "python",
   "name": "python3"
  },
  "language_info": {
   "codemirror_mode": {
    "name": "ipython",
    "version": 3
   },
   "file_extension": ".py",
   "mimetype": "text/x-python",
   "name": "python",
   "nbconvert_exporter": "python",
   "pygments_lexer": "ipython3",
   "version": "3.9.13"
  }
 },
 "nbformat": 4,
 "nbformat_minor": 5
}
